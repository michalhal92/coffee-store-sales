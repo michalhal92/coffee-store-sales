{
  "nbformat": 4,
  "nbformat_minor": 0,
  "metadata": {
    "colab": {
      "provenance": [],
      "toc_visible": true,
      "authorship_tag": "ABX9TyO0G56QVT61ybwz2IgSwX3V",
      "include_colab_link": true
    },
    "kernelspec": {
      "name": "python3",
      "display_name": "Python 3"
    },
    "language_info": {
      "name": "python"
    }
  },
  "cells": [
    {
      "cell_type": "markdown",
      "metadata": {
        "id": "view-in-github",
        "colab_type": "text"
      },
      "source": [
        "<a href=\"https://colab.research.google.com/github/michalhal92/coffee-store-sales/blob/main/Coffee_Shop_Sales.ipynb\" target=\"_parent\"><img src=\"https://colab.research.google.com/assets/colab-badge.svg\" alt=\"Open In Colab\"/></a>"
      ]
    },
    {
      "cell_type": "markdown",
      "source": [
        "# Wczytanie danych z pliku Excel, stworzenie DataFrame"
      ],
      "metadata": {
        "id": "NhzqdRcd6--A"
      }
    },
    {
      "cell_type": "code",
      "execution_count": 3,
      "metadata": {
        "colab": {
          "base_uri": "https://localhost:8080/"
        },
        "id": "stDAA6ej4X6x",
        "outputId": "0c9db775-c53e-4724-89bb-e9f1e33ef502"
      },
      "outputs": [
        {
          "output_type": "stream",
          "name": "stdout",
          "text": [
            "           date                datetime  hour_of_day cash_type  \\\n",
            "0    2024-03-01 2024-03-01 10:15:50.520           10      card   \n",
            "1    2024-03-01 2024-03-01 12:19:22.539           12      card   \n",
            "2    2024-03-01 2024-03-01 12:20:18.089           12      card   \n",
            "3    2024-03-01 2024-03-01 13:46:33.006           13      card   \n",
            "4    2024-03-01 2024-03-01 13:48:14.626           13      card   \n",
            "...         ...                     ...          ...       ...   \n",
            "3631 2025-03-23 2025-03-23 10:34:54.894           10      card   \n",
            "3632 2025-03-23 2025-03-23 14:43:37.362           14      card   \n",
            "3633 2025-03-23 2025-03-23 14:44:16.864           14      card   \n",
            "3634 2025-03-23 2025-03-23 15:47:28.723           15      card   \n",
            "3635 2025-03-23 2025-03-23 18:11:38.635           18      card   \n",
            "\n",
            "                     card  money    coffee_name Time_of_Day Weekday  \\\n",
            "0     ANON-0000-0000-0001  38.70          Latte     Morning     Fri   \n",
            "1     ANON-0000-0000-0002  38.70  Hot Chocolate   Afternoon     Fri   \n",
            "2     ANON-0000-0000-0002  38.70  Hot Chocolate   Afternoon     Fri   \n",
            "3     ANON-0000-0000-0003  28.90      Americano   Afternoon     Fri   \n",
            "4     ANON-0000-0000-0004  38.70          Latte   Afternoon     Fri   \n",
            "...                   ...    ...            ...         ...     ...   \n",
            "3631  ANON-0000-0000-1158  35.76     Cappuccino     Morning     Sun   \n",
            "3632  ANON-0000-0000-1315  35.76          Cocoa   Afternoon     Sun   \n",
            "3633  ANON-0000-0000-1315  35.76          Cocoa   Afternoon     Sun   \n",
            "3634  ANON-0000-0000-1316  25.96      Americano   Afternoon     Sun   \n",
            "3635  ANON-0000-0000-1275  35.76          Latte       Night     Sun   \n",
            "\n",
            "     Month_name  Weekdaysort  Monthsort  \n",
            "0           Mar            5          3  \n",
            "1           Mar            5          3  \n",
            "2           Mar            5          3  \n",
            "3           Mar            5          3  \n",
            "4           Mar            5          3  \n",
            "...         ...          ...        ...  \n",
            "3631        Mar            7          3  \n",
            "3632        Mar            7          3  \n",
            "3633        Mar            7          3  \n",
            "3634        Mar            7          3  \n",
            "3635        Mar            7          3  \n",
            "\n",
            "[3636 rows x 12 columns]\n"
          ]
        }
      ],
      "source": [
        "import pandas as pd\n",
        "\n",
        "baza = pd.read_excel(\"/content/sample_data/Coffe_sales.xlsx\")\n",
        "\n",
        "df = pd.DataFrame(baza)\n",
        "\n",
        "print(df)"
      ]
    },
    {
      "cell_type": "markdown",
      "source": [
        "# Szybka analiza tabeli"
      ],
      "metadata": {
        "id": "ATIXXfHN57Io"
      }
    },
    {
      "cell_type": "code",
      "source": [
        "# Ilość wierszy, nazwy kolumn, typy danych z info o not-nullach\n",
        "df.info()"
      ],
      "metadata": {
        "colab": {
          "base_uri": "https://localhost:8080/"
        },
        "id": "_V0gJPRt6GM6",
        "outputId": "792b1e8b-d91f-4485-adf6-365c983ed8f1"
      },
      "execution_count": 4,
      "outputs": [
        {
          "output_type": "stream",
          "name": "stdout",
          "text": [
            "<class 'pandas.core.frame.DataFrame'>\n",
            "RangeIndex: 3636 entries, 0 to 3635\n",
            "Data columns (total 12 columns):\n",
            " #   Column       Non-Null Count  Dtype         \n",
            "---  ------       --------------  -----         \n",
            " 0   date         3636 non-null   datetime64[ns]\n",
            " 1   datetime     3636 non-null   datetime64[ns]\n",
            " 2   hour_of_day  3636 non-null   int64         \n",
            " 3   cash_type    3636 non-null   object        \n",
            " 4   card         3547 non-null   object        \n",
            " 5   money        3636 non-null   float64       \n",
            " 6   coffee_name  3636 non-null   object        \n",
            " 7   Time_of_Day  3636 non-null   object        \n",
            " 8   Weekday      3636 non-null   object        \n",
            " 9   Month_name   3636 non-null   object        \n",
            " 10  Weekdaysort  3636 non-null   int64         \n",
            " 11  Monthsort    3636 non-null   int64         \n",
            "dtypes: datetime64[ns](2), float64(1), int64(3), object(6)\n",
            "memory usage: 341.0+ KB\n"
          ]
        }
      ]
    },
    {
      "cell_type": "code",
      "source": [
        "# Info o nullach\n",
        "df.isnull().sum()"
      ],
      "metadata": {
        "colab": {
          "base_uri": "https://localhost:8080/",
          "height": 460
        },
        "id": "wYEOdzgJ6WQd",
        "outputId": "a40b514a-1aaf-410f-a927-f8b65ad3b09a"
      },
      "execution_count": 5,
      "outputs": [
        {
          "output_type": "execute_result",
          "data": {
            "text/plain": [
              "date            0\n",
              "datetime        0\n",
              "hour_of_day     0\n",
              "cash_type       0\n",
              "card           89\n",
              "money           0\n",
              "coffee_name     0\n",
              "Time_of_Day     0\n",
              "Weekday         0\n",
              "Month_name      0\n",
              "Weekdaysort     0\n",
              "Monthsort       0\n",
              "dtype: int64"
            ],
            "text/html": [
              "<div>\n",
              "<style scoped>\n",
              "    .dataframe tbody tr th:only-of-type {\n",
              "        vertical-align: middle;\n",
              "    }\n",
              "\n",
              "    .dataframe tbody tr th {\n",
              "        vertical-align: top;\n",
              "    }\n",
              "\n",
              "    .dataframe thead th {\n",
              "        text-align: right;\n",
              "    }\n",
              "</style>\n",
              "<table border=\"1\" class=\"dataframe\">\n",
              "  <thead>\n",
              "    <tr style=\"text-align: right;\">\n",
              "      <th></th>\n",
              "      <th>0</th>\n",
              "    </tr>\n",
              "  </thead>\n",
              "  <tbody>\n",
              "    <tr>\n",
              "      <th>date</th>\n",
              "      <td>0</td>\n",
              "    </tr>\n",
              "    <tr>\n",
              "      <th>datetime</th>\n",
              "      <td>0</td>\n",
              "    </tr>\n",
              "    <tr>\n",
              "      <th>hour_of_day</th>\n",
              "      <td>0</td>\n",
              "    </tr>\n",
              "    <tr>\n",
              "      <th>cash_type</th>\n",
              "      <td>0</td>\n",
              "    </tr>\n",
              "    <tr>\n",
              "      <th>card</th>\n",
              "      <td>89</td>\n",
              "    </tr>\n",
              "    <tr>\n",
              "      <th>money</th>\n",
              "      <td>0</td>\n",
              "    </tr>\n",
              "    <tr>\n",
              "      <th>coffee_name</th>\n",
              "      <td>0</td>\n",
              "    </tr>\n",
              "    <tr>\n",
              "      <th>Time_of_Day</th>\n",
              "      <td>0</td>\n",
              "    </tr>\n",
              "    <tr>\n",
              "      <th>Weekday</th>\n",
              "      <td>0</td>\n",
              "    </tr>\n",
              "    <tr>\n",
              "      <th>Month_name</th>\n",
              "      <td>0</td>\n",
              "    </tr>\n",
              "    <tr>\n",
              "      <th>Weekdaysort</th>\n",
              "      <td>0</td>\n",
              "    </tr>\n",
              "    <tr>\n",
              "      <th>Monthsort</th>\n",
              "      <td>0</td>\n",
              "    </tr>\n",
              "  </tbody>\n",
              "</table>\n",
              "</div><br><label><b>dtype:</b> int64</label>"
            ]
          },
          "metadata": {},
          "execution_count": 5
        }
      ]
    },
    {
      "cell_type": "code",
      "source": [
        "# Procent brakujących danych\n",
        "print(\"\\nProcent braków:\\n\", (df.isnull().mean() * 100).round(2))\n",
        "# 2.45% nulli w cards wygląda na mało istotne"
      ],
      "metadata": {
        "colab": {
          "base_uri": "https://localhost:8080/"
        },
        "id": "TxfZv5v16a9n",
        "outputId": "4f5f95bc-ddd9-453b-baed-8cd78c7f6c63"
      },
      "execution_count": 6,
      "outputs": [
        {
          "output_type": "stream",
          "name": "stdout",
          "text": [
            "\n",
            "Procent braków:\n",
            " date           0.00\n",
            "datetime       0.00\n",
            "hour_of_day    0.00\n",
            "cash_type      0.00\n",
            "card           2.45\n",
            "money          0.00\n",
            "coffee_name    0.00\n",
            "Time_of_Day    0.00\n",
            "Weekday        0.00\n",
            "Month_name     0.00\n",
            "Weekdaysort    0.00\n",
            "Monthsort      0.00\n",
            "dtype: float64\n"
          ]
        }
      ]
    },
    {
      "cell_type": "code",
      "source": [
        "# Podstawowe statystyki numeryczne dla kolumn numerycznych\n",
        "df.describe()"
      ],
      "metadata": {
        "colab": {
          "base_uri": "https://localhost:8080/",
          "height": 300
        },
        "id": "DUrThrlf6epB",
        "outputId": "239988a0-25cf-4746-8eb1-0604bb2d7615"
      },
      "execution_count": 7,
      "outputs": [
        {
          "output_type": "execute_result",
          "data": {
            "text/plain": [
              "                                date                       datetime  \\\n",
              "count                           3636                           3636   \n",
              "mean   2024-09-30 11:56:02.376237568  2024-10-01 02:35:30.535053568   \n",
              "min              2024-03-01 00:00:00     2024-03-01 10:15:50.520000   \n",
              "25%              2024-07-03 00:00:00  2024-07-03 16:54:06.084750080   \n",
              "50%              2024-10-06 12:00:00  2024-10-07 02:55:12.649500160   \n",
              "75%              2025-01-08 00:00:00  2025-01-08 07:55:20.299750144   \n",
              "max              2025-03-23 00:00:00     2025-03-23 18:11:38.635000   \n",
              "std                              NaN                            NaN   \n",
              "\n",
              "       hour_of_day        money  Weekdaysort    Monthsort  \n",
              "count  3636.000000  3636.000000  3636.000000  3636.000000  \n",
              "mean     14.166942    31.746859     3.847910     6.394664  \n",
              "min       6.000000    18.120000     1.000000     1.000000  \n",
              "25%      10.000000    27.920000     2.000000     3.000000  \n",
              "50%      14.000000    32.820000     4.000000     6.000000  \n",
              "75%      18.000000    35.760000     6.000000    10.000000  \n",
              "max      22.000000    40.000000     7.000000    12.000000  \n",
              "std       4.227755     4.919926     1.975983     3.480686  "
            ],
            "text/html": [
              "\n",
              "  <div id=\"df-15dd402f-b664-48fd-9d30-819db766779c\" class=\"colab-df-container\">\n",
              "    <div>\n",
              "<style scoped>\n",
              "    .dataframe tbody tr th:only-of-type {\n",
              "        vertical-align: middle;\n",
              "    }\n",
              "\n",
              "    .dataframe tbody tr th {\n",
              "        vertical-align: top;\n",
              "    }\n",
              "\n",
              "    .dataframe thead th {\n",
              "        text-align: right;\n",
              "    }\n",
              "</style>\n",
              "<table border=\"1\" class=\"dataframe\">\n",
              "  <thead>\n",
              "    <tr style=\"text-align: right;\">\n",
              "      <th></th>\n",
              "      <th>date</th>\n",
              "      <th>datetime</th>\n",
              "      <th>hour_of_day</th>\n",
              "      <th>money</th>\n",
              "      <th>Weekdaysort</th>\n",
              "      <th>Monthsort</th>\n",
              "    </tr>\n",
              "  </thead>\n",
              "  <tbody>\n",
              "    <tr>\n",
              "      <th>count</th>\n",
              "      <td>3636</td>\n",
              "      <td>3636</td>\n",
              "      <td>3636.000000</td>\n",
              "      <td>3636.000000</td>\n",
              "      <td>3636.000000</td>\n",
              "      <td>3636.000000</td>\n",
              "    </tr>\n",
              "    <tr>\n",
              "      <th>mean</th>\n",
              "      <td>2024-09-30 11:56:02.376237568</td>\n",
              "      <td>2024-10-01 02:35:30.535053568</td>\n",
              "      <td>14.166942</td>\n",
              "      <td>31.746859</td>\n",
              "      <td>3.847910</td>\n",
              "      <td>6.394664</td>\n",
              "    </tr>\n",
              "    <tr>\n",
              "      <th>min</th>\n",
              "      <td>2024-03-01 00:00:00</td>\n",
              "      <td>2024-03-01 10:15:50.520000</td>\n",
              "      <td>6.000000</td>\n",
              "      <td>18.120000</td>\n",
              "      <td>1.000000</td>\n",
              "      <td>1.000000</td>\n",
              "    </tr>\n",
              "    <tr>\n",
              "      <th>25%</th>\n",
              "      <td>2024-07-03 00:00:00</td>\n",
              "      <td>2024-07-03 16:54:06.084750080</td>\n",
              "      <td>10.000000</td>\n",
              "      <td>27.920000</td>\n",
              "      <td>2.000000</td>\n",
              "      <td>3.000000</td>\n",
              "    </tr>\n",
              "    <tr>\n",
              "      <th>50%</th>\n",
              "      <td>2024-10-06 12:00:00</td>\n",
              "      <td>2024-10-07 02:55:12.649500160</td>\n",
              "      <td>14.000000</td>\n",
              "      <td>32.820000</td>\n",
              "      <td>4.000000</td>\n",
              "      <td>6.000000</td>\n",
              "    </tr>\n",
              "    <tr>\n",
              "      <th>75%</th>\n",
              "      <td>2025-01-08 00:00:00</td>\n",
              "      <td>2025-01-08 07:55:20.299750144</td>\n",
              "      <td>18.000000</td>\n",
              "      <td>35.760000</td>\n",
              "      <td>6.000000</td>\n",
              "      <td>10.000000</td>\n",
              "    </tr>\n",
              "    <tr>\n",
              "      <th>max</th>\n",
              "      <td>2025-03-23 00:00:00</td>\n",
              "      <td>2025-03-23 18:11:38.635000</td>\n",
              "      <td>22.000000</td>\n",
              "      <td>40.000000</td>\n",
              "      <td>7.000000</td>\n",
              "      <td>12.000000</td>\n",
              "    </tr>\n",
              "    <tr>\n",
              "      <th>std</th>\n",
              "      <td>NaN</td>\n",
              "      <td>NaN</td>\n",
              "      <td>4.227755</td>\n",
              "      <td>4.919926</td>\n",
              "      <td>1.975983</td>\n",
              "      <td>3.480686</td>\n",
              "    </tr>\n",
              "  </tbody>\n",
              "</table>\n",
              "</div>\n",
              "    <div class=\"colab-df-buttons\">\n",
              "\n",
              "  <div class=\"colab-df-container\">\n",
              "    <button class=\"colab-df-convert\" onclick=\"convertToInteractive('df-15dd402f-b664-48fd-9d30-819db766779c')\"\n",
              "            title=\"Convert this dataframe to an interactive table.\"\n",
              "            style=\"display:none;\">\n",
              "\n",
              "  <svg xmlns=\"http://www.w3.org/2000/svg\" height=\"24px\" viewBox=\"0 -960 960 960\">\n",
              "    <path d=\"M120-120v-720h720v720H120Zm60-500h600v-160H180v160Zm220 220h160v-160H400v160Zm0 220h160v-160H400v160ZM180-400h160v-160H180v160Zm440 0h160v-160H620v160ZM180-180h160v-160H180v160Zm440 0h160v-160H620v160Z\"/>\n",
              "  </svg>\n",
              "    </button>\n",
              "\n",
              "  <style>\n",
              "    .colab-df-container {\n",
              "      display:flex;\n",
              "      gap: 12px;\n",
              "    }\n",
              "\n",
              "    .colab-df-convert {\n",
              "      background-color: #E8F0FE;\n",
              "      border: none;\n",
              "      border-radius: 50%;\n",
              "      cursor: pointer;\n",
              "      display: none;\n",
              "      fill: #1967D2;\n",
              "      height: 32px;\n",
              "      padding: 0 0 0 0;\n",
              "      width: 32px;\n",
              "    }\n",
              "\n",
              "    .colab-df-convert:hover {\n",
              "      background-color: #E2EBFA;\n",
              "      box-shadow: 0px 1px 2px rgba(60, 64, 67, 0.3), 0px 1px 3px 1px rgba(60, 64, 67, 0.15);\n",
              "      fill: #174EA6;\n",
              "    }\n",
              "\n",
              "    .colab-df-buttons div {\n",
              "      margin-bottom: 4px;\n",
              "    }\n",
              "\n",
              "    [theme=dark] .colab-df-convert {\n",
              "      background-color: #3B4455;\n",
              "      fill: #D2E3FC;\n",
              "    }\n",
              "\n",
              "    [theme=dark] .colab-df-convert:hover {\n",
              "      background-color: #434B5C;\n",
              "      box-shadow: 0px 1px 3px 1px rgba(0, 0, 0, 0.15);\n",
              "      filter: drop-shadow(0px 1px 2px rgba(0, 0, 0, 0.3));\n",
              "      fill: #FFFFFF;\n",
              "    }\n",
              "  </style>\n",
              "\n",
              "    <script>\n",
              "      const buttonEl =\n",
              "        document.querySelector('#df-15dd402f-b664-48fd-9d30-819db766779c button.colab-df-convert');\n",
              "      buttonEl.style.display =\n",
              "        google.colab.kernel.accessAllowed ? 'block' : 'none';\n",
              "\n",
              "      async function convertToInteractive(key) {\n",
              "        const element = document.querySelector('#df-15dd402f-b664-48fd-9d30-819db766779c');\n",
              "        const dataTable =\n",
              "          await google.colab.kernel.invokeFunction('convertToInteractive',\n",
              "                                                    [key], {});\n",
              "        if (!dataTable) return;\n",
              "\n",
              "        const docLinkHtml = 'Like what you see? Visit the ' +\n",
              "          '<a target=\"_blank\" href=https://colab.research.google.com/notebooks/data_table.ipynb>data table notebook</a>'\n",
              "          + ' to learn more about interactive tables.';\n",
              "        element.innerHTML = '';\n",
              "        dataTable['output_type'] = 'display_data';\n",
              "        await google.colab.output.renderOutput(dataTable, element);\n",
              "        const docLink = document.createElement('div');\n",
              "        docLink.innerHTML = docLinkHtml;\n",
              "        element.appendChild(docLink);\n",
              "      }\n",
              "    </script>\n",
              "  </div>\n",
              "\n",
              "\n",
              "    <div id=\"df-5c4c86df-9d8d-4b58-a5c7-f08d54c0ec3a\">\n",
              "      <button class=\"colab-df-quickchart\" onclick=\"quickchart('df-5c4c86df-9d8d-4b58-a5c7-f08d54c0ec3a')\"\n",
              "                title=\"Suggest charts\"\n",
              "                style=\"display:none;\">\n",
              "\n",
              "<svg xmlns=\"http://www.w3.org/2000/svg\" height=\"24px\"viewBox=\"0 0 24 24\"\n",
              "     width=\"24px\">\n",
              "    <g>\n",
              "        <path d=\"M19 3H5c-1.1 0-2 .9-2 2v14c0 1.1.9 2 2 2h14c1.1 0 2-.9 2-2V5c0-1.1-.9-2-2-2zM9 17H7v-7h2v7zm4 0h-2V7h2v10zm4 0h-2v-4h2v4z\"/>\n",
              "    </g>\n",
              "</svg>\n",
              "      </button>\n",
              "\n",
              "<style>\n",
              "  .colab-df-quickchart {\n",
              "      --bg-color: #E8F0FE;\n",
              "      --fill-color: #1967D2;\n",
              "      --hover-bg-color: #E2EBFA;\n",
              "      --hover-fill-color: #174EA6;\n",
              "      --disabled-fill-color: #AAA;\n",
              "      --disabled-bg-color: #DDD;\n",
              "  }\n",
              "\n",
              "  [theme=dark] .colab-df-quickchart {\n",
              "      --bg-color: #3B4455;\n",
              "      --fill-color: #D2E3FC;\n",
              "      --hover-bg-color: #434B5C;\n",
              "      --hover-fill-color: #FFFFFF;\n",
              "      --disabled-bg-color: #3B4455;\n",
              "      --disabled-fill-color: #666;\n",
              "  }\n",
              "\n",
              "  .colab-df-quickchart {\n",
              "    background-color: var(--bg-color);\n",
              "    border: none;\n",
              "    border-radius: 50%;\n",
              "    cursor: pointer;\n",
              "    display: none;\n",
              "    fill: var(--fill-color);\n",
              "    height: 32px;\n",
              "    padding: 0;\n",
              "    width: 32px;\n",
              "  }\n",
              "\n",
              "  .colab-df-quickchart:hover {\n",
              "    background-color: var(--hover-bg-color);\n",
              "    box-shadow: 0 1px 2px rgba(60, 64, 67, 0.3), 0 1px 3px 1px rgba(60, 64, 67, 0.15);\n",
              "    fill: var(--button-hover-fill-color);\n",
              "  }\n",
              "\n",
              "  .colab-df-quickchart-complete:disabled,\n",
              "  .colab-df-quickchart-complete:disabled:hover {\n",
              "    background-color: var(--disabled-bg-color);\n",
              "    fill: var(--disabled-fill-color);\n",
              "    box-shadow: none;\n",
              "  }\n",
              "\n",
              "  .colab-df-spinner {\n",
              "    border: 2px solid var(--fill-color);\n",
              "    border-color: transparent;\n",
              "    border-bottom-color: var(--fill-color);\n",
              "    animation:\n",
              "      spin 1s steps(1) infinite;\n",
              "  }\n",
              "\n",
              "  @keyframes spin {\n",
              "    0% {\n",
              "      border-color: transparent;\n",
              "      border-bottom-color: var(--fill-color);\n",
              "      border-left-color: var(--fill-color);\n",
              "    }\n",
              "    20% {\n",
              "      border-color: transparent;\n",
              "      border-left-color: var(--fill-color);\n",
              "      border-top-color: var(--fill-color);\n",
              "    }\n",
              "    30% {\n",
              "      border-color: transparent;\n",
              "      border-left-color: var(--fill-color);\n",
              "      border-top-color: var(--fill-color);\n",
              "      border-right-color: var(--fill-color);\n",
              "    }\n",
              "    40% {\n",
              "      border-color: transparent;\n",
              "      border-right-color: var(--fill-color);\n",
              "      border-top-color: var(--fill-color);\n",
              "    }\n",
              "    60% {\n",
              "      border-color: transparent;\n",
              "      border-right-color: var(--fill-color);\n",
              "    }\n",
              "    80% {\n",
              "      border-color: transparent;\n",
              "      border-right-color: var(--fill-color);\n",
              "      border-bottom-color: var(--fill-color);\n",
              "    }\n",
              "    90% {\n",
              "      border-color: transparent;\n",
              "      border-bottom-color: var(--fill-color);\n",
              "    }\n",
              "  }\n",
              "</style>\n",
              "\n",
              "      <script>\n",
              "        async function quickchart(key) {\n",
              "          const quickchartButtonEl =\n",
              "            document.querySelector('#' + key + ' button');\n",
              "          quickchartButtonEl.disabled = true;  // To prevent multiple clicks.\n",
              "          quickchartButtonEl.classList.add('colab-df-spinner');\n",
              "          try {\n",
              "            const charts = await google.colab.kernel.invokeFunction(\n",
              "                'suggestCharts', [key], {});\n",
              "          } catch (error) {\n",
              "            console.error('Error during call to suggestCharts:', error);\n",
              "          }\n",
              "          quickchartButtonEl.classList.remove('colab-df-spinner');\n",
              "          quickchartButtonEl.classList.add('colab-df-quickchart-complete');\n",
              "        }\n",
              "        (() => {\n",
              "          let quickchartButtonEl =\n",
              "            document.querySelector('#df-5c4c86df-9d8d-4b58-a5c7-f08d54c0ec3a button');\n",
              "          quickchartButtonEl.style.display =\n",
              "            google.colab.kernel.accessAllowed ? 'block' : 'none';\n",
              "        })();\n",
              "      </script>\n",
              "    </div>\n",
              "\n",
              "    </div>\n",
              "  </div>\n"
            ],
            "application/vnd.google.colaboratory.intrinsic+json": {
              "type": "dataframe",
              "summary": "{\n  \"name\": \"df\",\n  \"rows\": 8,\n  \"fields\": [\n    {\n      \"column\": \"date\",\n      \"properties\": {\n        \"dtype\": \"date\",\n        \"min\": \"1970-01-01 00:00:00.000003636\",\n        \"max\": \"2025-03-23 00:00:00\",\n        \"num_unique_values\": 7,\n        \"samples\": [\n          \"3636\",\n          \"2024-09-30 11:56:02.376237568\",\n          \"2025-01-08 00:00:00\"\n        ],\n        \"semantic_type\": \"\",\n        \"description\": \"\"\n      }\n    },\n    {\n      \"column\": \"datetime\",\n      \"properties\": {\n        \"dtype\": \"date\",\n        \"min\": \"1970-01-01 00:00:00.000003636\",\n        \"max\": \"2025-03-23 18:11:38.635000\",\n        \"num_unique_values\": 7,\n        \"samples\": [\n          \"3636\",\n          \"2024-10-01 02:35:30.535053568\",\n          \"2025-01-08 07:55:20.299750144\"\n        ],\n        \"semantic_type\": \"\",\n        \"description\": \"\"\n      }\n    },\n    {\n      \"column\": \"hour_of_day\",\n      \"properties\": {\n        \"dtype\": \"number\",\n        \"std\": 1281.069034283637,\n        \"min\": 4.227754838482883,\n        \"max\": 3636.0,\n        \"num_unique_values\": 8,\n        \"samples\": [\n          14.166941694169417,\n          18.0,\n          3636.0\n        ],\n        \"semantic_type\": \"\",\n        \"description\": \"\"\n      }\n    },\n    {\n      \"column\": \"money\",\n      \"properties\": {\n        \"dtype\": \"number\",\n        \"std\": 1275.9073154156783,\n        \"min\": 4.919925803555333,\n        \"max\": 3636.0,\n        \"num_unique_values\": 8,\n        \"samples\": [\n          31.74685918591859,\n          35.76,\n          3636.0\n        ],\n        \"semantic_type\": \"\",\n        \"description\": \"\"\n      }\n    },\n    {\n      \"column\": \"Weekdaysort\",\n      \"properties\": {\n        \"dtype\": \"number\",\n        \"std\": 1284.2174622759808,\n        \"min\": 1.0,\n        \"max\": 3636.0,\n        \"num_unique_values\": 8,\n        \"samples\": [\n          3.847909790979098,\n          6.0,\n          3636.0\n        ],\n        \"semantic_type\": \"\",\n        \"description\": \"\"\n      }\n    },\n    {\n      \"column\": \"Monthsort\",\n      \"properties\": {\n        \"dtype\": \"number\",\n        \"std\": 1283.4102517669594,\n        \"min\": 1.0,\n        \"max\": 3636.0,\n        \"num_unique_values\": 8,\n        \"samples\": [\n          6.3946644664466445,\n          10.0,\n          3636.0\n        ],\n        \"semantic_type\": \"\",\n        \"description\": \"\"\n      }\n    }\n  ]\n}"
            }
          },
          "metadata": {},
          "execution_count": 7
        }
      ]
    },
    {
      "cell_type": "code",
      "source": [
        "# Liczba unikalnych wpisów w poszczególnych kolumnach - pokazuje różnorodność wartości\n",
        "df.nunique()"
      ],
      "metadata": {
        "colab": {
          "base_uri": "https://localhost:8080/",
          "height": 460
        },
        "id": "-9Zjywou6kPZ",
        "outputId": "0b55e8f0-5cf8-47b1-d98b-18f61ca61962"
      },
      "execution_count": 8,
      "outputs": [
        {
          "output_type": "execute_result",
          "data": {
            "text/plain": [
              "date            381\n",
              "datetime       3636\n",
              "hour_of_day      17\n",
              "cash_type         2\n",
              "card           1316\n",
              "money            20\n",
              "coffee_name       8\n",
              "Time_of_Day       3\n",
              "Weekday           7\n",
              "Month_name       12\n",
              "Weekdaysort       7\n",
              "Monthsort        12\n",
              "dtype: int64"
            ],
            "text/html": [
              "<div>\n",
              "<style scoped>\n",
              "    .dataframe tbody tr th:only-of-type {\n",
              "        vertical-align: middle;\n",
              "    }\n",
              "\n",
              "    .dataframe tbody tr th {\n",
              "        vertical-align: top;\n",
              "    }\n",
              "\n",
              "    .dataframe thead th {\n",
              "        text-align: right;\n",
              "    }\n",
              "</style>\n",
              "<table border=\"1\" class=\"dataframe\">\n",
              "  <thead>\n",
              "    <tr style=\"text-align: right;\">\n",
              "      <th></th>\n",
              "      <th>0</th>\n",
              "    </tr>\n",
              "  </thead>\n",
              "  <tbody>\n",
              "    <tr>\n",
              "      <th>date</th>\n",
              "      <td>381</td>\n",
              "    </tr>\n",
              "    <tr>\n",
              "      <th>datetime</th>\n",
              "      <td>3636</td>\n",
              "    </tr>\n",
              "    <tr>\n",
              "      <th>hour_of_day</th>\n",
              "      <td>17</td>\n",
              "    </tr>\n",
              "    <tr>\n",
              "      <th>cash_type</th>\n",
              "      <td>2</td>\n",
              "    </tr>\n",
              "    <tr>\n",
              "      <th>card</th>\n",
              "      <td>1316</td>\n",
              "    </tr>\n",
              "    <tr>\n",
              "      <th>money</th>\n",
              "      <td>20</td>\n",
              "    </tr>\n",
              "    <tr>\n",
              "      <th>coffee_name</th>\n",
              "      <td>8</td>\n",
              "    </tr>\n",
              "    <tr>\n",
              "      <th>Time_of_Day</th>\n",
              "      <td>3</td>\n",
              "    </tr>\n",
              "    <tr>\n",
              "      <th>Weekday</th>\n",
              "      <td>7</td>\n",
              "    </tr>\n",
              "    <tr>\n",
              "      <th>Month_name</th>\n",
              "      <td>12</td>\n",
              "    </tr>\n",
              "    <tr>\n",
              "      <th>Weekdaysort</th>\n",
              "      <td>7</td>\n",
              "    </tr>\n",
              "    <tr>\n",
              "      <th>Monthsort</th>\n",
              "      <td>12</td>\n",
              "    </tr>\n",
              "  </tbody>\n",
              "</table>\n",
              "</div><br><label><b>dtype:</b> int64</label>"
            ]
          },
          "metadata": {},
          "execution_count": 8
        }
      ]
    },
    {
      "cell_type": "markdown",
      "source": [
        "*   date: format 2024-03-01, rozpiętośc dat od 2024-03-01 do 2025-03-23\n",
        "*   datetime: format 2024-03-01 10:15:50.520 - data z godziną"
      ],
      "metadata": {
        "id": "GZqsrQlp9rcy"
      }
    },
    {
      "cell_type": "code",
      "source": [
        "# Sprawdzenie wartosci hour_of_day\n",
        "print(f\"W kolumnie 'hour_of_day' wystepują unikalne wartości:\")\n",
        "print(df['hour_of_day'].value_counts().sort_index())\n",
        "# ok, wszystkie w ligocznym zaresie"
      ],
      "metadata": {
        "colab": {
          "base_uri": "https://localhost:8080/"
        },
        "id": "qf6hNZ6szX9P",
        "outputId": "07f0d1d3-bbd5-4e06-edad-6236de3e83fa"
      },
      "execution_count": 9,
      "outputs": [
        {
          "output_type": "stream",
          "name": "stdout",
          "text": [
            "W kolumnie 'hour_of_day' wystepują unikalne wartości:\n",
            "hour_of_day\n",
            "6       5\n",
            "7      91\n",
            "8     235\n",
            "9     247\n",
            "10    349\n",
            "11    294\n",
            "12    249\n",
            "13    227\n",
            "14    228\n",
            "15    245\n",
            "16    282\n",
            "17    245\n",
            "18    220\n",
            "19    235\n",
            "20    171\n",
            "21    197\n",
            "22    116\n",
            "Name: count, dtype: int64\n"
          ]
        }
      ]
    },
    {
      "cell_type": "code",
      "source": [
        "# Sprawdzenie wartosci card, która jest stringiem,\n",
        "print(\"W kolumnie 'card' wystepują unikalne wartości:\")\n",
        "print(df['card'].value_counts(dropna=False))\n",
        "# schemat ANON-xxxx-xxxx-xxxx, występują stali klienci"
      ],
      "metadata": {
        "colab": {
          "base_uri": "https://localhost:8080/"
        },
        "id": "NERHHvYPAPgc",
        "outputId": "92603438-3348-439b-c662-fc347c0e405b"
      },
      "execution_count": 10,
      "outputs": [
        {
          "output_type": "stream",
          "name": "stdout",
          "text": [
            "W kolumnie 'card' wystepują unikalne wartości:\n",
            "card\n",
            "ANON-0000-0000-0012    129\n",
            "ANON-0000-0000-0141    108\n",
            "NaN                     89\n",
            "ANON-0000-0000-1163     77\n",
            "ANON-0000-0000-0276     69\n",
            "                      ... \n",
            "ANON-0000-0000-1300      1\n",
            "ANON-0000-0000-1299      1\n",
            "ANON-0000-0000-1296      1\n",
            "ANON-0000-0000-0015      1\n",
            "ANON-0000-0000-0014      1\n",
            "Name: count, Length: 1317, dtype: int64\n"
          ]
        }
      ]
    },
    {
      "cell_type": "code",
      "source": [
        "# Sprawdzenie wartosci money\n",
        "print(f\"W kolumnie 'money' wystepują unikalne wartości:\")\n",
        "print(df['money'].value_counts().sort_index())\n",
        "# wartości liczbowe do 2 liczb po przecinku"
      ],
      "metadata": {
        "colab": {
          "base_uri": "https://localhost:8080/"
        },
        "id": "l39ufC0NCa66",
        "outputId": "c8e12a2e-bec8-4d10-ebd7-8339db3a97a6"
      },
      "execution_count": 11,
      "outputs": [
        {
          "output_type": "stream",
          "name": "stdout",
          "text": [
            "W kolumnie 'money' wystepują unikalne wartości:\n",
            "money\n",
            "18.12      36\n",
            "21.06      59\n",
            "23.02     208\n",
            "24.00      14\n",
            "25.00       4\n",
            "25.96     459\n",
            "27.92     334\n",
            "28.90      93\n",
            "29.00       8\n",
            "30.00      11\n",
            "30.86     389\n",
            "32.82     490\n",
            "33.80      51\n",
            "34.00       7\n",
            "35.00       8\n",
            "35.76    1014\n",
            "37.72     273\n",
            "38.70     128\n",
            "39.00      18\n",
            "40.00      32\n",
            "Name: count, dtype: int64\n"
          ]
        }
      ]
    },
    {
      "cell_type": "code",
      "source": [
        "# Sprawdzenie wartosci coffee_name, która jest stringiem,\n",
        "print(\"W kolumnie 'coffee_name' wystepują unikalne wartości:\")\n",
        "print(df['coffee_name'].value_counts(dropna=False))\n",
        "# o różnych napojów, nazewnictwo jednolite"
      ],
      "metadata": {
        "colab": {
          "base_uri": "https://localhost:8080/"
        },
        "id": "p_SnfUiF0PGT",
        "outputId": "15f35fa5-3f41-41f7-a721-41705cb48570"
      },
      "execution_count": 12,
      "outputs": [
        {
          "output_type": "stream",
          "name": "stdout",
          "text": [
            "W kolumnie 'coffee_name' wystepują unikalne wartości:\n",
            "coffee_name\n",
            "Americano with Milk    824\n",
            "Latte                  782\n",
            "Americano              578\n",
            "Cappuccino             501\n",
            "Cortado                292\n",
            "Hot Chocolate          282\n",
            "Cocoa                  243\n",
            "Espresso               134\n",
            "Name: count, dtype: int64\n"
          ]
        }
      ]
    },
    {
      "cell_type": "code",
      "source": [
        "print(\"W kolumnie 'Time_of_Day' wystepują unikalne wartości:\")\n",
        "print(df['Time_of_Day'].value_counts(dropna=False))"
      ],
      "metadata": {
        "colab": {
          "base_uri": "https://localhost:8080/"
        },
        "id": "7vC4G6B00acc",
        "outputId": "ec2b08bf-e684-4a05-ead1-7790612de5a5"
      },
      "execution_count": 13,
      "outputs": [
        {
          "output_type": "stream",
          "name": "stdout",
          "text": [
            "W kolumnie 'Time_of_Day' wystepują unikalne wartości:\n",
            "Time_of_Day\n",
            "Afternoon    1231\n",
            "Morning      1221\n",
            "Night        1184\n",
            "Name: count, dtype: int64\n"
          ]
        }
      ]
    },
    {
      "cell_type": "code",
      "source": [
        "print(\"W kolumnie 'Weekday' wystepują unikalne wartości:\")\n",
        "print(df['Weekday'].value_counts(dropna=False))"
      ],
      "metadata": {
        "colab": {
          "base_uri": "https://localhost:8080/"
        },
        "id": "7f0fTdHZ0lt3",
        "outputId": "09365a9d-0b0e-4dbc-f3da-8cbf93b06ae4"
      },
      "execution_count": 14,
      "outputs": [
        {
          "output_type": "stream",
          "name": "stdout",
          "text": [
            "W kolumnie 'Weekday' wystepują unikalne wartości:\n",
            "Weekday\n",
            "Tue    585\n",
            "Mon    561\n",
            "Fri    544\n",
            "Thu    520\n",
            "Wed    510\n",
            "Sat    482\n",
            "Sun    434\n",
            "Name: count, dtype: int64\n"
          ]
        }
      ]
    },
    {
      "cell_type": "code",
      "source": [
        "print(f\"W kolumnie 'Weekdaysort' wystepują unikalne wartości:\")\n",
        "print(df['Weekdaysort'].value_counts().sort_index())"
      ],
      "metadata": {
        "colab": {
          "base_uri": "https://localhost:8080/"
        },
        "id": "7Q5ArM300woa",
        "outputId": "acefa50a-a389-4a72-d7fb-e299dcef21bc"
      },
      "execution_count": 15,
      "outputs": [
        {
          "output_type": "stream",
          "name": "stdout",
          "text": [
            "W kolumnie 'Weekdaysort' wystepują unikalne wartości:\n",
            "Weekdaysort\n",
            "1    561\n",
            "2    585\n",
            "3    510\n",
            "4    520\n",
            "5    544\n",
            "6    482\n",
            "7    434\n",
            "Name: count, dtype: int64\n"
          ]
        }
      ]
    },
    {
      "cell_type": "code",
      "source": [
        "print(\"W kolumnie 'Month_name' wystepują unikalne wartości:\")\n",
        "print(df['Month_name'].value_counts(dropna=False))"
      ],
      "metadata": {
        "colab": {
          "base_uri": "https://localhost:8080/"
        },
        "id": "JfdaVIhK0r-q",
        "outputId": "57e65e52-935b-4fc4-86f4-8f0219d90cc9"
      },
      "execution_count": 16,
      "outputs": [
        {
          "output_type": "stream",
          "name": "stdout",
          "text": [
            "W kolumnie 'Month_name' wystepują unikalne wartości:\n",
            "Month_name\n",
            "Mar    525\n",
            "Oct    426\n",
            "Feb    423\n",
            "Sep    344\n",
            "Aug    272\n",
            "May    267\n",
            "Dec    259\n",
            "Nov    259\n",
            "Jul    237\n",
            "Jun    227\n",
            "Jan    201\n",
            "Apr    196\n",
            "Name: count, dtype: int64\n"
          ]
        }
      ]
    },
    {
      "cell_type": "code",
      "source": [
        "print(f\"W kolumnie 'Monthsort' wystepują unikalne wartości:\")\n",
        "print(df['Monthsort'].value_counts().sort_index())"
      ],
      "metadata": {
        "colab": {
          "base_uri": "https://localhost:8080/"
        },
        "id": "2dqphiuS0x9C",
        "outputId": "66c77a04-5ec6-437e-d9c5-cc30c6c51356"
      },
      "execution_count": 17,
      "outputs": [
        {
          "output_type": "stream",
          "name": "stdout",
          "text": [
            "W kolumnie 'Monthsort' wystepują unikalne wartości:\n",
            "Monthsort\n",
            "1     201\n",
            "2     423\n",
            "3     525\n",
            "4     196\n",
            "5     267\n",
            "6     227\n",
            "7     237\n",
            "8     272\n",
            "9     344\n",
            "10    426\n",
            "11    259\n",
            "12    259\n",
            "Name: count, dtype: int64\n"
          ]
        }
      ]
    }
  ]
}